{
 "cells": [
  {
   "cell_type": "code",
   "execution_count": 20,
   "metadata": {},
   "outputs": [
    {
     "name": "stdout",
     "output_type": "stream",
     "text": [
      "The inflation factor from a test date of 2024-01-15 for a child born 2021-07-18 in a cohort with oldest member born on 2020-09-01 is 1.3512623490669593. That means the test score of 70 should actually be 94.58836443468715\n"
     ]
    }
   ],
   "source": [
    "# Most basic version\n",
    "\n",
    "from datetime import date\n",
    "\n",
    "# Minimum Viable Prototype\n",
    "child_bday = date.fromisoformat(\"2021-07-18\")\n",
    "oldest_in_cohort = date.fromisoformat(\"2020-09-01\")\n",
    "test_date = date.fromisoformat(\"2024-01-15\")\n",
    "child_test_score = 70\n",
    "max_test_score = 100\n",
    "\n",
    "# Calculate the difference between the two dates\n",
    "oldest_delta = test_date - oldest_in_cohort\n",
    "child_delta = test_date -child_bday\n",
    "\n",
    "# Access the number of days\n",
    "inflation_factor = oldest_delta.days/child_delta.days\n",
    "\n",
    "# New test score\n",
    "child_inflated_score = child_test_score*inflation_factor\n",
    "if child_inflated_score > max_test_score:\n",
    "    child_inflated_score = max_test_score\n",
    "\n",
    "\n",
    "# printing results\n",
    "print(f\"The inflation factor from a test date of {test_date} for a child born {child_bday} in a cohort with oldest member born on {oldest_in_cohort} is {inflation_factor}.\", \n",
    "      f\"That means the test score of {child_test_score} should actually be {child_inflated_score}\")\n",
    "\n"
   ]
  },
  {
   "cell_type": "code",
   "execution_count": 24,
   "metadata": {},
   "outputs": [
    {
     "data": {
      "text/plain": [
       "86.64817941605438"
      ]
     },
     "execution_count": 24,
     "metadata": {},
     "output_type": "execute_result"
    }
   ],
   "source": [
    "import math\n",
    "\n",
    "def relative_age_adjustment(raw_score, age_in_months, max_score, min_age, max_age, k=1, a=1):\n",
    "    \"\"\"\n",
    "    Adjusts a test score to account for the relative age effect using a logistic function with soft capping.\n",
    "    \n",
    "    Args:\n",
    "        raw_score (float): The original test score.\n",
    "        age_in_months (int): The age of the student in months.\n",
    "        max_score (float): The maximum possible score on the test.\n",
    "        min_age (int): The minimum age of the cohort in months.\n",
    "        max_age (int): The maximum age of the cohort in months.\n",
    "        k (float): The steepness constant for the logistic adjustment function.\n",
    "        a (float): The steepness constant for the soft capping scaling function.\n",
    "    \n",
    "    Returns:\n",
    "        float: The adjusted test score, capped smoothly within the valid score range.\n",
    "    \"\"\"\n",
    "    # Calculate the relative age as a percentage of the cohort age range\n",
    "    relative_age = (age_in_months - min_age) / (max_age - min_age)\n",
    "    \n",
    "    # Apply the logistic adjustment function\n",
    "    adjustment_factor = 1 / (1 + math.exp(-k * (relative_age - 0.5)))\n",
    "    \n",
    "    # Apply the soft capping scaling function\n",
    "    adjusted_score = max_score * (1 - math.exp(-a * (raw_score / adjustment_factor) / max_score))\n",
    "    \n",
    "    return adjusted_score\n",
    "\n",
    "relative_age_adjustment(80, 37, 100, 36, 48)\n",
    "\n",
    "for i in range(100):\n",
    "    relative_age_adjustment(i, 37, 100, 36, 48)\n"
   ]
  }
 ],
 "metadata": {
  "kernelspec": {
   "display_name": "base",
   "language": "python",
   "name": "python3"
  },
  "language_info": {
   "codemirror_mode": {
    "name": "ipython",
    "version": 3
   },
   "file_extension": ".py",
   "mimetype": "text/x-python",
   "name": "python",
   "nbconvert_exporter": "python",
   "pygments_lexer": "ipython3",
   "version": "3.9.6"
  }
 },
 "nbformat": 4,
 "nbformat_minor": 2
}
