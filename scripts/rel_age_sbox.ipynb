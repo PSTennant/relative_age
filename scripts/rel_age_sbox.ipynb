{
 "cells": [
  {
   "cell_type": "code",
   "execution_count": 20,
   "metadata": {},
   "outputs": [
    {
     "name": "stdout",
     "output_type": "stream",
     "text": [
      "The inflation factor from a test date of 2024-01-15 for a child born 2021-07-18 in a cohort with oldest member born on 2020-09-01 is 1.3512623490669593. That means the test score of 70 should actually be 94.58836443468715\n"
     ]
    }
   ],
   "source": [
    "from datetime import date\n",
    "\n",
    "# Minimum Viable Prototype\n",
    "child_bday = date.fromisoformat(\"2021-07-18\")\n",
    "oldest_in_cohort = date.fromisoformat(\"2020-09-01\")\n",
    "test_date = date.fromisoformat(\"2024-01-15\")\n",
    "child_test_score = 70\n",
    "max_test_score = 100\n",
    "\n",
    "# Calculate the difference between the two dates\n",
    "oldest_delta = test_date - oldest_in_cohort\n",
    "child_delta = test_date -child_bday\n",
    "\n",
    "# Access the number of days\n",
    "inflation_factor = oldest_delta.days/child_delta.days\n",
    "\n",
    "# New test score\n",
    "child_inflated_score = child_test_score*inflation_factor\n",
    "if child_inflated_score > max_test_score:\n",
    "    child_inflated_score = max_test_score\n",
    "\n",
    "\n",
    "# printing results\n",
    "print(f\"The inflation factor from a test date of {test_date} for a child born {child_bday} in a cohort with oldest member born on {oldest_in_cohort} is {inflation_factor}.\", \n",
    "      f\"That means the test score of {child_test_score} should actually be {child_inflated_score}\")\n",
    "\n"
   ]
  }
 ],
 "metadata": {
  "kernelspec": {
   "display_name": "base",
   "language": "python",
   "name": "python3"
  },
  "language_info": {
   "codemirror_mode": {
    "name": "ipython",
    "version": 3
   },
   "file_extension": ".py",
   "mimetype": "text/x-python",
   "name": "python",
   "nbconvert_exporter": "python",
   "pygments_lexer": "ipython3",
   "version": "3.9.6"
  }
 },
 "nbformat": 4,
 "nbformat_minor": 2
}
